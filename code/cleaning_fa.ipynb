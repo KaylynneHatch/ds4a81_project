{
 "metadata": {
  "language_info": {
   "codemirror_mode": {
    "name": "ipython",
    "version": 3
   },
   "file_extension": ".py",
   "mimetype": "text/x-python",
   "name": "python",
   "nbconvert_exporter": "python",
   "pygments_lexer": "ipython3",
   "version": "3.8.5-final"
  },
  "orig_nbformat": 2,
  "kernelspec": {
   "name": "python3",
   "display_name": "Python 3",
   "language": "python"
  }
 },
 "nbformat": 4,
 "nbformat_minor": 2,
 "cells": [
  {
   "cell_type": "code",
   "execution_count": 2,
   "metadata": {},
   "outputs": [],
   "source": [
    "import pandas as pd\n",
    "import sys\n",
    "import os"
   ]
  },
  {
   "cell_type": "code",
   "execution_count": 3,
   "metadata": {},
   "outputs": [
    {
     "output_type": "stream",
     "name": "stdout",
     "text": [
      "Index(['State Name', 'County Code', 'FIPS', 'FI Rate',\n       'Number Food Insecure Individuals', 'Low Threshold in state',\n       'Low Threshold Type', 'High Threshold in state', 'High Threshold Type',\n       '% FI ≤ Low Threshold', '% FI Btwn Thresholds', '% FI > High Threshold',\n       'Weighted Annual Dollars', 'Cost Per Meal', 'Child FI Rate',\n       'Number Food Insecure Children',\n       '% of children in FI HH with HH incomes at or below 185% FPL',\n       '% of children in FI HH with HH incomes above 185% FPL'],\n      dtype='object')\nIndex(['FIPS', 'State', 'County, State', '2010 Food Insecurity Rate',\n       'Number of Food Insecure Persons in 2010', 'Low Threshold in state',\n       'Low Threshold Type', 'High Threshold in state', 'High Threshold Type',\n       '% FI ≤ Low Threshold', '% FI Btwn Thresholds', '% FI > High Threshold',\n       '2010 Child food insecurity rate',\n       'Number of Food Insecure Children in 2010 ',\n       '% food insecure children in HH w/ HH incomes below 185 FPL',\n       '% of food insecure children in HH w/ HH incomes above 185 FPL',\n       '2010 Cost Per Meal', '2010 Weighted Annual Food Budget Shortfall'],\n      dtype='object')\nIndex(['FIPS', 'State', 'County, State', '2011 Food Insecurity Rate',\n       'Number of Food Insecure Persons in 2011', 'Low Threshold in state',\n       'Low Threshold Type', 'High Threshold in state', 'High Threshold Type',\n       '% FI ≤ Low Threshold', '% FI Btwn Thresholds', '% FI > High Threshold',\n       '2011 Child Food Insecurity Rate',\n       'Number of Food Insecure Children in 2011',\n       '% food insecure children in HH w/ HH incomes below 185 FPL',\n       '% of food insecure children in HH w/ HH incomes above 185 FPL',\n       'Cost Per Meal', 'Weighted Annual Food Budget Shortfall'],\n      dtype='object')\nIndex(['FIPS', 'State', 'County, State', '2012 Food Insecurity Rate',\n       '# of Food Insecure Persons in 2012', 'Low Threshold in state',\n       'Low Threshold Type', 'High Threshold in state', 'High Threshold Type',\n       '% FI ≤ Low Threshold', '% FI Btwn Thresholds', '% FI > High Threshold',\n       '2012 Child food insecurity rate',\n       '# of Food Insecure Children in 2012',\n       '% food insecure children in HH w/ HH incomes below 185 FPL in 2012',\n       '% food insecure children in HH w/ HH incomes above 185 FPL in 2012',\n       '2012 Cost Per Meal', '2012 Weighted Annual Food Budget Shortfall'],\n      dtype='object')\nIndex(['FIPS', 'State', 'County, State', '2013 Food Insecurity Rate',\n       '# of Food Insecure Persons in 2013', 'Low Threshold in state',\n       'Low Threshold Type', 'High Threshold in state', 'High Threshold Type',\n       '% FI ≤ Low Threshold', '% FI Btwn Thresholds', '% FI > High Threshold',\n       '2013 Child food insecurity rate',\n       '# of Food Insecure Children in 2013',\n       '% food insecure children in HH w/ HH incomes below 185 FPL in 2013',\n       '% food insecure children in HH w/ HH incomes above 185 FPL in 2013',\n       '2013 Cost Per Meal', '2013 Weighted Annual Food Budget Shortfall'],\n      dtype='object')\nIndex(['FIPS', 'State', 'County, State', '2014 Food Insecurity Rate',\n       '# of Food Insecure Persons in 2014', 'Low Threshold in state',\n       'Low Threshold Type', 'High Threshold in state', 'High Threshold Type',\n       '% FI ≤ Low Threshold', '% FI Btwn Thresholds', '% FI > High Threshold',\n       '2014 Child food insecurity rate',\n       '# of Food Insecure Children in 2014',\n       '% food insecure children in HH w/ HH incomes below 185 FPL in 2014',\n       '% food insecure children in HH w/ HH incomes above 185 FPL in 2014',\n       '2014 Cost Per Meal', '2014 Weighted Annual Food Budget Shortfall'],\n      dtype='object')\nIndex(['FIPS', 'State', 'County, State', '2015 Food Insecurity Rate',\n       '# of Food Insecure Persons in 2015', 'Low Threshold in state',\n       'Low Threshold Type', 'High Threshold in state', 'High Threshold Type',\n       '% FI ≤ Low Threshold', '% FI Btwn Thresholds', '% FI > High Threshold',\n       '2015 Child food insecurity rate',\n       '# of Food Insecure Children in 2015',\n       '% food insecure children in HH w/ HH incomes below 185 FPL in 2015',\n       '% food insecure children in HH w/ HH incomes above 185 FPL in 2015',\n       '2015 Cost Per Meal', '2015 Weighted Annual Food Budget Shortfall'],\n      dtype='object')\nIndex(['FIPS', 'State', 'County, State', '2016 Food Insecurity Rate',\n       '# of Food Insecure Persons in 2016', 'Low Threshold in state',\n       'Low Threshold Type', 'High Threshold in state', 'High Threshold Type',\n       '% FI ≤ Low Threshold', '% FI Btwn Thresholds', '% FI > High Threshold',\n       '2016 Child food insecurity rate',\n       '# of Food Insecure Children in 2016',\n       '% food insecure children in HH w/ HH incomes below 185 FPL in 2016',\n       '% food insecure children in HH w/ HH incomes above 185 FPL in 2016',\n       '2016 Cost Per Meal', '2016 Weighted Annual Food Budget Shortfall'],\n      dtype='object')\nIndex(['FIPS', 'State', 'County, State', '2017 Food Insecurity Rate',\n       '# of Food Insecure Persons in 2017', 'Low Threshold in state',\n       'Low Threshold Type', 'High Threshold in state', 'High Threshold Type',\n       '% FI ≤ Low Threshold', '% FI Btwn Thresholds', '% FI > High Threshold',\n       '2017 Child food insecurity rate',\n       '# of Food Insecure Children in 2017',\n       '% food insecure children in HH w/ HH incomes below 185 FPL in 2017',\n       '% food insecure children in HH w/ HH incomes above 185 FPL in 2017',\n       '2017 Cost Per Meal', '2017 Weighted Annual Food Budget Shortfall'],\n      dtype='object')\nIndex(['Data from MMG 2020 are NOT directly comparable to data from any prior MMG study due to methodological changes made in 2020.',\n       'Unnamed: 1', 'Unnamed: 2', 'Unnamed: 3', 'Unnamed: 4', 'Unnamed: 5',\n       'Unnamed: 6', 'Unnamed: 7', 'Unnamed: 8', 'Unnamed: 9', 'Unnamed: 10',\n       'Unnamed: 11', 'Unnamed: 12', 'Unnamed: 13', 'Unnamed: 14',\n       'Unnamed: 15', 'Unnamed: 16', 'Unnamed: 17'],\n      dtype='object')\n"
     ]
    }
   ],
   "source": [
    "df_11_09 = pd.read_excel('/Users/kayh/Documents/DS4A/team_81_project/ds4a81_project/Original Datasets/Feeding_America_Data/MMG2011_2009Data_ToShare.xlsx', sheet_name='County')\n",
    "\n",
    "df_12_10 = pd.read_excel('/Users/kayh/Documents/DS4A/team_81_project/ds4a81_project/Original Datasets/Feeding_America_Data/MMG2012_2010Data_ToShare.xlsx', sheet_name= 'County')\n",
    "\n",
    "df_13_11 = pd.read_excel('/Users/kayh/Documents/DS4A/team_81_project/ds4a81_project/Original Datasets/Feeding_America_Data/MMG2013_2011Data_ToShare.xlsx', sheet_name= '2011 County')\n",
    "\n",
    "df_14_12 = pd.read_excel('/Users/kayh/Documents/DS4A/team_81_project/ds4a81_project/Original Datasets/Feeding_America_Data/MMG2014_2012Data_ToShare.xlsx', sheet_name= '2012 County')\n",
    "\n",
    "df_15_13 = pd.read_excel('/Users/kayh/Documents/DS4A/team_81_project/ds4a81_project/Original Datasets/Feeding_America_Data/MMG2015_2013Data_ToShare.xlsx', sheet_name= '2013 County')\n",
    "\n",
    "df_16_14 = pd.read_excel('/Users/kayh/Documents/DS4A/team_81_project/ds4a81_project/Original Datasets/Feeding_America_Data/MMG2016_2014Data_ToShare.xlsx', sheet_name= '2014 County')\n",
    "\n",
    "df_17_15 = pd.read_excel('/Users/kayh/Documents/DS4A/team_81_project/ds4a81_project/Original Datasets/Feeding_America_Data/MMG2017_2015Data_ToShare.xlsx', sheet_name= '2015 County')\n",
    "\n",
    "df_18_16 = pd.read_excel('/Users/kayh/Documents/DS4A/team_81_project/ds4a81_project/Original Datasets/Feeding_America_Data/MMG2018_2016Data_ToShare.xlsx', sheet_name= '2016 County')\n",
    "\n",
    "df_19_17 = pd.read_excel('/Users/kayh/Documents/DS4A/team_81_project/ds4a81_project/Original Datasets/Feeding_America_Data/MMG2019_2017Data_ToShare.xlsx', sheet_name= '2017 County')\n",
    "\n",
    "df_20_18 = pd.read_excel('/Users/kayh/Documents/DS4A/team_81_project/ds4a81_project/Original Datasets/Feeding_America_Data/MMG2020_2018Data_ToShare.xlsx', sheet_name= '2018 County')\n",
    "\n",
    "print(df_11_09.columns)\n",
    "print(df_12_10.columns)\n",
    "print(df_13_11.columns)\n",
    "print(df_14_12.columns)\n",
    "print(df_15_13.columns)\n",
    "print(df_16_14.columns)\n",
    "print(df_17_15.columns)\n",
    "print(df_18_16.columns)\n",
    "print(df_19_17.columns)\n",
    "print(df_20_18.columns)"
   ]
  },
  {
   "cell_type": "code",
   "execution_count": null,
   "metadata": {},
   "outputs": [],
   "source": []
  }
 ]
}