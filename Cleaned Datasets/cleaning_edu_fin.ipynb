{
 "metadata": {
  "language_info": {
   "codemirror_mode": {
    "name": "ipython",
    "version": 3
   },
   "file_extension": ".py",
   "mimetype": "text/x-python",
   "name": "python",
   "nbconvert_exporter": "python",
   "pygments_lexer": "ipython3",
   "version": "3.8.5-final"
  },
  "orig_nbformat": 2,
  "kernelspec": {
   "name": "python3",
   "display_name": "Python 3",
   "language": "python"
  }
 },
 "nbformat": 4,
 "nbformat_minor": 2,
 "cells": [
  {
   "cell_type": "code",
   "execution_count": null,
   "metadata": {},
   "outputs": [],
   "source": [
    "import pandas as pd"
   ]
  },
  {
   "cell_type": "code",
   "execution_count": 4,
   "metadata": {},
   "outputs": [],
   "source": [
    "#Read in the 2018 educational finance dataset\n",
    "edu_fin = pd.read_csv(\"/Users/kayh/Documents/DS4A/team_81_project/Cleaned Datasets/edu_fin.csv\")"
   ]
  },
  {
   "cell_type": "code",
   "execution_count": 7,
   "metadata": {},
   "outputs": [
    {
     "output_type": "execute_result",
     "data": {
      "text/plain": [
       "Index(['STATE', 'IDCENSUS', 'NAME', 'COUNTY NUMBER',\n",
       "       'Consolidated Statistical Area', 'Core-Based Statistical Area',\n",
       "       'School Level Code', 'NCES Identification Number', 'Year of Data',\n",
       "       'Fall Membership',\n",
       "       ...\n",
       "       'Total employee benefit payments - Enterprise operations',\n",
       "       'Long-term debt outstanding at beginning of the fiscal year ',\n",
       "       'Long-term debt issued during the fiscal year',\n",
       "       'Long-term debt retired during the fiscal year',\n",
       "       'Long-term debt outstanding at end of fiscal year',\n",
       "       'Short-term debt outstanding at beginning of the fiscal year',\n",
       "       'Short-term debt outstanding at end of the fiscal year ',\n",
       "       'Cash and deposits, held at end of fiscal year - Debt service funds',\n",
       "       'Cash and deposits, held at end of fiscal year - Bond funds',\n",
       "       'Cash and deposits, held at end of fiscal year - Other funds'],\n",
       "      dtype='object', length=141)"
      ]
     },
     "metadata": {},
     "execution_count": 7
    }
   ],
   "source": [
    "#Initial Review of the Education\n",
    "edu_fin.columns"
   ]
  },
  {
   "cell_type": "code",
   "execution_count": null,
   "metadata": {},
   "outputs": [],
   "source": []
  }
 ]
}