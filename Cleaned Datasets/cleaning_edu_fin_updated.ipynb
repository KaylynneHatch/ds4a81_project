{
 "cells": [
  {
   "cell_type": "code",
   "execution_count": null,
   "metadata": {},
   "outputs": [],
   "source": [
    "import pandas as pd"
   ]
  },
  {
   "cell_type": "code",
   "execution_count": 4,
   "metadata": {},
   "outputs": [],
   "source": [
    "#Read in the 2018 educational finance dataset\n",
    "edu_fin = pd.read_csv(\"/Users/kayh/Documents/DS4A/team_81_project/Cleaned Datasets/edu_fin.csv\")"
   ]
  },
  {
   "cell_type": "code",
   "execution_count": 7,
   "metadata": {},
   "outputs": [
    {
     "data": {
      "text/plain": [
       "Index(['STATE', 'IDCENSUS', 'NAME', 'COUNTY NUMBER',\n",
       "       'Consolidated Statistical Area', 'Core-Based Statistical Area',\n",
       "       'School Level Code', 'NCES Identification Number', 'Year of Data',\n",
       "       'Fall Membership',\n",
       "       ...\n",
       "       'Total employee benefit payments - Enterprise operations',\n",
       "       'Long-term debt outstanding at beginning of the fiscal year ',\n",
       "       'Long-term debt issued during the fiscal year',\n",
       "       'Long-term debt retired during the fiscal year',\n",
       "       'Long-term debt outstanding at end of fiscal year',\n",
       "       'Short-term debt outstanding at beginning of the fiscal year',\n",
       "       'Short-term debt outstanding at end of the fiscal year ',\n",
       "       'Cash and deposits, held at end of fiscal year - Debt service funds',\n",
       "       'Cash and deposits, held at end of fiscal year - Bond funds',\n",
       "       'Cash and deposits, held at end of fiscal year - Other funds'],\n",
       "      dtype='object', length=141)"
      ]
     },
     "execution_count": 7,
     "metadata": {},
     "output_type": "execute_result"
    }
   ],
   "source": [
    "#Initial Review of the Education\n",
    "edu_fin.columns"
   ]
  },
  {
   "cell_type": "code",
   "execution_count": null,
   "metadata": {},
   "outputs": [],
   "source": [
    "# extracting identifying columns from original edu_fin DataFrame\n",
    "\n",
    "id_columns_df = edu_fin.drop(edu_fin.columns.difference(['STATE', 'IDCENSUS', 'NAME', 'COUNTY NUMBER']), 1)\n",
    "\n",
    "id_columns_df.head()"
   ]
  },
  {
   "cell_type": "code",
   "execution_count": null,
   "metadata": {},
   "outputs": [],
   "source": [
    "# extracting columns containing totals from original edu_fin DataFrame\n",
    "\n",
    "cols = [x for x in edu_fin.columns if x.lower()[:5] == 'total']\n",
    "\n",
    "total_columns_df = edu_fin[cols]\n",
    "\n",
    "total_columns_df"
   ]
  },
  {
   "cell_type": "code",
   "execution_count": null,
   "metadata": {},
   "outputs": [],
   "source": [
    "# combining id_columns_df and total_columns_df to create one clean DataFrame\n",
    "\n",
    "clean_edu_fin_df = pd.concat([id_columns_df, total_columns_df], axis = 1)\n",
    "\n",
    "clean_edu_fin_df.head()"
   ]
  },
  {
   "cell_type": "code",
   "execution_count": null,
   "metadata": {},
   "outputs": [],
   "source": [
    "# exporting new DataFrame as .csv\n",
    "\n",
    "clean_edu_fin_df.to_csv('edu_fin_totals.csv')"
   ]
  }
 ],
 "metadata": {
  "kernelspec": {
   "display_name": "Python 3",
   "language": "python",
   "name": "python3"
  },
  "language_info": {
   "codemirror_mode": {
    "name": "ipython",
    "version": 3
   },
   "file_extension": ".py",
   "mimetype": "text/x-python",
   "name": "python",
   "nbconvert_exporter": "python",
   "pygments_lexer": "ipython3",
   "version": "3.6.7"
  }
 },
 "nbformat": 4,
 "nbformat_minor": 2
}
