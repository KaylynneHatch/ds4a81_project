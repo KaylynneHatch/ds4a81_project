{
 "metadata": {
  "language_info": {
   "codemirror_mode": {
    "name": "ipython",
    "version": 3
   },
   "file_extension": ".py",
   "mimetype": "text/x-python",
   "name": "python",
   "nbconvert_exporter": "python",
   "pygments_lexer": "ipython3",
   "version": "3.8.5-final"
  },
  "orig_nbformat": 2,
  "kernelspec": {
   "name": "python3",
   "display_name": "Python 3",
   "language": "python"
  }
 },
 "nbformat": 4,
 "nbformat_minor": 2,
 "cells": [
  {
   "cell_type": "code",
   "execution_count": null,
   "metadata": {},
   "outputs": [],
   "source": [
    "import pandas as pd"
   ]
  },
  {
   "cell_type": "code",
   "execution_count": 9,
   "metadata": {},
   "outputs": [
    {
     "output_type": "execute_result",
     "data": {
      "text/plain": [
       "  Data from MMG 2020 are NOT directly comparable to data from any prior MMG study due to methodological changes made in 2020.  \\\n",
       "0                                               FIPS                                                                            \n",
       "1                                               1001                                                                            \n",
       "2                                               1003                                                                            \n",
       "3                                               1005                                                                            \n",
       "4                                               1007                                                                            \n",
       "\n",
       "  Unnamed: 1               Unnamed: 2                 Unnamed: 3  \\\n",
       "0      State            County, State  2018 Food Insecurity Rate   \n",
       "1         AL  Autauga County, Alabama                      0.156   \n",
       "2         AL  Baldwin County, Alabama                      0.129   \n",
       "3         AL  Barbour County, Alabama                      0.219   \n",
       "4         AL     Bibb County, Alabama                      0.151   \n",
       "\n",
       "                           Unnamed: 4              Unnamed: 5  \\\n",
       "0  # of Food Insecure Persons in 2018  Low Threshold in state   \n",
       "1                                8620                     1.3   \n",
       "2                               26860                     1.3   \n",
       "3                                5650                     1.3   \n",
       "4                                3400                     1.3   \n",
       "\n",
       "           Unnamed: 6               Unnamed: 7               Unnamed: 8  \\\n",
       "0  Low Threshold Type  High Threshold in state      High Threshold Type   \n",
       "1                SNAP                     1.85  Other Nutrition Program   \n",
       "2                SNAP                     1.85  Other Nutrition Program   \n",
       "3                SNAP                     1.85  Other Nutrition Program   \n",
       "4                SNAP                     1.85  Other Nutrition Program   \n",
       "\n",
       "             Unnamed: 9           Unnamed: 10            Unnamed: 11  \\\n",
       "0  % FI ≤ Low Threshold  % FI Btwn Thresholds  % FI > High Threshold   \n",
       "1                 0.462                 0.132                  0.405   \n",
       "2                 0.371                 0.187                  0.442   \n",
       "3                 0.651                 0.108                  0.241   \n",
       "4                 0.469                 0.212                  0.319   \n",
       "\n",
       "                       Unnamed: 12                          Unnamed: 13  \\\n",
       "0  2018 Child food insecurity rate  # of Food Insecure Children in 2018   \n",
       "1                            0.214                                 2870   \n",
       "2                            0.169                                 7710   \n",
       "3                             0.32                                 1740   \n",
       "4                            0.209                                  970   \n",
       "\n",
       "                                         Unnamed: 14  \\\n",
       "0  % food insecure children in HH w/ HH incomes b...   \n",
       "1                                               0.69   \n",
       "2                                               0.74   \n",
       "3                                               0.76   \n",
       "4                                               0.92   \n",
       "\n",
       "                                         Unnamed: 15         Unnamed: 16  \\\n",
       "0  % food insecure children in HH w/ HH incomes a...  2018 Cost Per Meal   \n",
       "1                                               0.31                3.33   \n",
       "2                                               0.27                3.58   \n",
       "3                                               0.25                3.12   \n",
       "4                                               0.08                2.94   \n",
       "\n",
       "                                  Unnamed: 17  \n",
       "0  2018 Weighted Annual Food Budget Shortfall  \n",
       "1                                     4857000  \n",
       "2                                    16274000  \n",
       "3                                     2988000  \n",
       "4                                     1690000  "
      ],
      "text/html": "<div>\n<style scoped>\n    .dataframe tbody tr th:only-of-type {\n        vertical-align: middle;\n    }\n\n    .dataframe tbody tr th {\n        vertical-align: top;\n    }\n\n    .dataframe thead th {\n        text-align: right;\n    }\n</style>\n<table border=\"1\" class=\"dataframe\">\n  <thead>\n    <tr style=\"text-align: right;\">\n      <th></th>\n      <th>Data from MMG 2020 are NOT directly comparable to data from any prior MMG study due to methodological changes made in 2020.</th>\n      <th>Unnamed: 1</th>\n      <th>Unnamed: 2</th>\n      <th>Unnamed: 3</th>\n      <th>Unnamed: 4</th>\n      <th>Unnamed: 5</th>\n      <th>Unnamed: 6</th>\n      <th>Unnamed: 7</th>\n      <th>Unnamed: 8</th>\n      <th>Unnamed: 9</th>\n      <th>Unnamed: 10</th>\n      <th>Unnamed: 11</th>\n      <th>Unnamed: 12</th>\n      <th>Unnamed: 13</th>\n      <th>Unnamed: 14</th>\n      <th>Unnamed: 15</th>\n      <th>Unnamed: 16</th>\n      <th>Unnamed: 17</th>\n    </tr>\n  </thead>\n  <tbody>\n    <tr>\n      <th>0</th>\n      <td>FIPS</td>\n      <td>State</td>\n      <td>County, State</td>\n      <td>2018 Food Insecurity Rate</td>\n      <td># of Food Insecure Persons in 2018</td>\n      <td>Low Threshold in state</td>\n      <td>Low Threshold Type</td>\n      <td>High Threshold in state</td>\n      <td>High Threshold Type</td>\n      <td>% FI ≤ Low Threshold</td>\n      <td>% FI Btwn Thresholds</td>\n      <td>% FI &gt; High Threshold</td>\n      <td>2018 Child food insecurity rate</td>\n      <td># of Food Insecure Children in 2018</td>\n      <td>% food insecure children in HH w/ HH incomes b...</td>\n      <td>% food insecure children in HH w/ HH incomes a...</td>\n      <td>2018 Cost Per Meal</td>\n      <td>2018 Weighted Annual Food Budget Shortfall</td>\n    </tr>\n    <tr>\n      <th>1</th>\n      <td>1001</td>\n      <td>AL</td>\n      <td>Autauga County, Alabama</td>\n      <td>0.156</td>\n      <td>8620</td>\n      <td>1.3</td>\n      <td>SNAP</td>\n      <td>1.85</td>\n      <td>Other Nutrition Program</td>\n      <td>0.462</td>\n      <td>0.132</td>\n      <td>0.405</td>\n      <td>0.214</td>\n      <td>2870</td>\n      <td>0.69</td>\n      <td>0.31</td>\n      <td>3.33</td>\n      <td>4857000</td>\n    </tr>\n    <tr>\n      <th>2</th>\n      <td>1003</td>\n      <td>AL</td>\n      <td>Baldwin County, Alabama</td>\n      <td>0.129</td>\n      <td>26860</td>\n      <td>1.3</td>\n      <td>SNAP</td>\n      <td>1.85</td>\n      <td>Other Nutrition Program</td>\n      <td>0.371</td>\n      <td>0.187</td>\n      <td>0.442</td>\n      <td>0.169</td>\n      <td>7710</td>\n      <td>0.74</td>\n      <td>0.27</td>\n      <td>3.58</td>\n      <td>16274000</td>\n    </tr>\n    <tr>\n      <th>3</th>\n      <td>1005</td>\n      <td>AL</td>\n      <td>Barbour County, Alabama</td>\n      <td>0.219</td>\n      <td>5650</td>\n      <td>1.3</td>\n      <td>SNAP</td>\n      <td>1.85</td>\n      <td>Other Nutrition Program</td>\n      <td>0.651</td>\n      <td>0.108</td>\n      <td>0.241</td>\n      <td>0.32</td>\n      <td>1740</td>\n      <td>0.76</td>\n      <td>0.25</td>\n      <td>3.12</td>\n      <td>2988000</td>\n    </tr>\n    <tr>\n      <th>4</th>\n      <td>1007</td>\n      <td>AL</td>\n      <td>Bibb County, Alabama</td>\n      <td>0.151</td>\n      <td>3400</td>\n      <td>1.3</td>\n      <td>SNAP</td>\n      <td>1.85</td>\n      <td>Other Nutrition Program</td>\n      <td>0.469</td>\n      <td>0.212</td>\n      <td>0.319</td>\n      <td>0.209</td>\n      <td>970</td>\n      <td>0.92</td>\n      <td>0.08</td>\n      <td>2.94</td>\n      <td>1690000</td>\n    </tr>\n  </tbody>\n</table>\n</div>"
     },
     "metadata": {},
     "execution_count": 9
    }
   ],
   "source": [
    "feeding_america1 = pd.read_excel(\"/Users/kayh/Documents/DS4A/team_81_project/Original Datasets/MMG2020_2018Data_ToShare.xlsx\", sheet_name=\"2018 County\")\n",
    "\n",
    "feeding_america1.head()"
   ]
  },
  {
   "cell_type": "code",
   "execution_count": 1,
   "metadata": {},
   "outputs": [
    {
     "output_type": "error",
     "ename": "NameError",
     "evalue": "name 'feeding_america1' is not defined",
     "traceback": [
      "\u001b[0;31m---------------------------------------------------------------------------\u001b[0m",
      "\u001b[0;31mNameError\u001b[0m                                 Traceback (most recent call last)",
      "\u001b[0;32m<ipython-input-1-e2af5bf6dc06>\u001b[0m in \u001b[0;36m<module>\u001b[0;34m\u001b[0m\n\u001b[1;32m      1\u001b[0m \u001b[0;31m#Merge feeding_america1 and feeding_america2 dataframes\u001b[0m\u001b[0;34m\u001b[0m\u001b[0;34m\u001b[0m\u001b[0;34m\u001b[0m\u001b[0m\n\u001b[0;32m----> 2\u001b[0;31m \u001b[0mfeeding_merged\u001b[0m \u001b[0;34m=\u001b[0m \u001b[0mfeeding_america1\u001b[0m\u001b[0;34m.\u001b[0m\u001b[0mappend\u001b[0m\u001b[0;34m(\u001b[0m\u001b[0mfeeding_america2\u001b[0m\u001b[0;34m)\u001b[0m\u001b[0;34m\u001b[0m\u001b[0;34m\u001b[0m\u001b[0m\n\u001b[0m\u001b[1;32m      3\u001b[0m \u001b[0;34m\u001b[0m\u001b[0m\n\u001b[1;32m      4\u001b[0m \u001b[0;31m#Merge feeding_america2 with feeding_merged\u001b[0m\u001b[0;34m\u001b[0m\u001b[0;34m\u001b[0m\u001b[0;34m\u001b[0m\u001b[0m\n\u001b[1;32m      5\u001b[0m \u001b[0mfeeding_merged\u001b[0m \u001b[0;34m=\u001b[0m \u001b[0mfeeding_merged\u001b[0m\u001b[0;34m.\u001b[0m\u001b[0mappend\u001b[0m\u001b[0;34m(\u001b[0m\u001b[0mfeeding_america3\u001b[0m\u001b[0;34m)\u001b[0m\u001b[0;34m\u001b[0m\u001b[0;34m\u001b[0m\u001b[0m\n",
      "\u001b[0;31mNameError\u001b[0m: name 'feeding_america1' is not defined"
     ]
    }
   ],
   "source": [
    "#Merge feeding_america1 and feeding_america2 dataframes\n",
    "feeding_merged = feeding_america1.append(feeding_america2)\n",
    "\n",
    "#Merge feeding_america2 with feeding_merged\n",
    "feeding_merged = feeding_merged.append(feeding_america3)"
   ]
  },
  {
   "cell_type": "code",
   "execution_count": null,
   "metadata": {},
   "outputs": [],
   "source": []
  },
  {
   "cell_type": "code",
   "execution_count": null,
   "metadata": {},
   "outputs": [],
   "source": []
  }
 ]
}