{
 "metadata": {
  "language_info": {
   "codemirror_mode": {
    "name": "ipython",
    "version": 3
   },
   "file_extension": ".py",
   "mimetype": "text/x-python",
   "name": "python",
   "nbconvert_exporter": "python",
   "pygments_lexer": "ipython3",
   "version": "3.8.5-final"
  },
  "orig_nbformat": 2,
  "kernelspec": {
   "name": "python3",
   "display_name": "Python 3",
   "language": "python"
  }
 },
 "nbformat": 4,
 "nbformat_minor": 2,
 "cells": [
  {
   "cell_type": "code",
   "execution_count": 1,
   "metadata": {},
   "outputs": [],
   "source": [
    "import pandas as pd\n",
    "import sys\n",
    "import os\n",
    "from functools import reduce\n",
    "import glob2"
   ]
  },
  {
   "cell_type": "code",
   "execution_count": 2,
   "metadata": {},
   "outputs": [],
   "source": [
    "pop_19 = pd.read_csv('/Users/kayh/Documents/DS4A/team_81_project/Original Datasets/Student Population/ACSST1Y2019.S1401-2021-02-09T031723.csv')\n",
    "pop_19 = pop_19[2:3]\n",
    "pop_19 = pop_19.transpose()\n",
    "pop_19 = pop_19[1:].reset_index()\n",
    "pop_19.columns=['State','Data']\n",
    "pop_19['Year'] = 2019\n",
    "\n",
    "pop_18 = pd.read_csv('/Users/kayh/Documents/DS4A/team_81_project/Original Datasets/Student Population/ACSST1Y2018.S1401-2021-02-09T031714.csv')\n",
    "pop_18 = pop_18[2:3]\n",
    "pop_18 = pop_18.transpose()\n",
    "pop_18 = pop_18[1:].reset_index()\n",
    "pop_18.columns=['State','Data']\n",
    "pop_18['Year'] = 2018\n",
    "\n",
    "pop_17 = pd.read_csv('/Users/kayh/Documents/DS4A/team_81_project/Original Datasets/Student Population/ACSST1Y2017.S1401-2021-02-09T031700.csv')\n",
    "pop_17 = pop_17[2:3]\n",
    "pop_17 = pop_17.transpose()\n",
    "pop_17 = pop_17[1:].reset_index()\n",
    "pop_17.columns=['State','Data']\n",
    "pop_17['Year'] = 2017\n",
    "\n",
    "pop_16 = pd.read_csv('/Users/kayh/Documents/DS4A/team_81_project/Original Datasets/Student Population/ACSST1Y2016.S1401-2021-02-09T031646.csv')\n",
    "pop_16 = pop_16[2:3]\n",
    "pop_16 = pop_16.transpose()\n",
    "pop_16 = pop_16[1:].reset_index()\n",
    "pop_16.columns=['State','Data']\n",
    "pop_16['Year'] = 2016\n",
    "\n",
    "pop_15 = pd.read_csv('/Users/kayh/Documents/DS4A/team_81_project/Original Datasets/Student Population/ACSST1Y2015.S1401-2021-02-09T031635.csv')\n",
    "pop_15 = pop_15[2:3]\n",
    "pop_15 = pop_15.transpose()\n",
    "pop_15 = pop_15[1:].reset_index()\n",
    "pop_15.columns=['State','Data']\n",
    "pop_15['Year'] = 2015\n",
    "\n",
    "pop_14 = pd.read_csv('/Users/kayh/Documents/DS4A/team_81_project/Original Datasets/Student Population/ACSST1Y2014.S1401-2021-02-09T031621.csv')\n",
    "pop_14 = pop_14[2:3]\n",
    "pop_14 = pop_14.transpose()\n",
    "pop_14 = pop_14[1:].reset_index()\n",
    "pop_14.columns=['State','Data']\n",
    "pop_14['Year'] = 2014\n",
    "\n",
    "pop_13 = pd.read_csv('/Users/kayh/Documents/DS4A/team_81_project/Original Datasets/Student Population/ACSST1Y2013.S1401-2021-02-09T031611.csv')\n",
    "pop_13 = pop_13[2:3]\n",
    "pop_13 = pop_13.transpose()\n",
    "pop_13 = pop_13[1:].reset_index()\n",
    "pop_13.columns=['State','Data']\n",
    "pop_13['Year'] = 2013\n",
    "\n",
    "pop_12 = pd.read_csv('/Users/kayh/Documents/DS4A/team_81_project/Original Datasets/Student Population/ACSST1Y2012.S1401-2021-02-09T031559.csv')\n",
    "pop_12 = pop_12[2:3]\n",
    "pop_12 = pop_12.transpose()\n",
    "pop_12 = pop_12[1:].reset_index()\n",
    "pop_12.columns=['State','Data']\n",
    "pop_12['Year'] = 2012\n",
    "\n",
    "pop_11 = pd.read_csv('/Users/kayh/Documents/DS4A/team_81_project/Original Datasets/Student Population/ACSST1Y2011.S1401-2021-02-09T031545.csv')\n",
    "pop_11 = pop_11[2:3]\n",
    "pop_11 = pop_11.transpose()\n",
    "pop_11 = pop_11[1:].reset_index()\n",
    "pop_11.columns=['State','Data']\n",
    "pop_11['Year'] = 2011\n",
    "\n",
    "pop_10 = pd.read_csv('/Users/kayh/Documents/DS4A/team_81_project/Original Datasets/Student Population/ACSST1Y2010.S1401-2021-02-09T031508.csv')\n",
    "pop_10 = pop_10[2:3]\n",
    "pop_10 = pop_10.transpose()\n",
    "pop_10 = pop_10[1:].reset_index()\n",
    "pop_10.columns=['State','Data']\n",
    "pop_10['Year'] = 2010"
   ]
  },
  {
   "cell_type": "code",
   "execution_count": 16,
   "metadata": {},
   "outputs": [
    {
     "output_type": "execute_result",
     "data": {
      "text/plain": [
       "         State     Data  Year                                    Segment  \\\n",
       "0      Alabama  797,659  2019                                   Estimate   \n",
       "1      Alabama    68.5%  2019                                   Estimate   \n",
       "2      Alabama  701,921  2019                              Public School   \n",
       "3      Alabama    88.0%  2019                              Public School   \n",
       "4      Alabama   95,738  2019                             Private School   \n",
       "..         ...      ...   ...                                        ...   \n",
       "148  Wisconsin    87.5%  2010   of enrolled population  In Public School   \n",
       "149  Wisconsin    12.5%  2010  of enrolled population  In Private School   \n",
       "150    Wyoming   94,404  2010                                   Estimate   \n",
       "151    Wyoming    96.3%  2010   of enrolled population  In Public School   \n",
       "152    Wyoming     3.7%  2010  of enrolled population  In Private School   \n",
       "\n",
       "      Format  \n",
       "0      Total  \n",
       "1    Percent  \n",
       "2     Number  \n",
       "3    Percent  \n",
       "4     Number  \n",
       "..       ...  \n",
       "148  Percent  \n",
       "149  Percent  \n",
       "150    Total  \n",
       "151  Percent  \n",
       "152  Percent  \n",
       "\n",
       "[2601 rows x 5 columns]"
      ],
      "text/html": "<div>\n<style scoped>\n    .dataframe tbody tr th:only-of-type {\n        vertical-align: middle;\n    }\n\n    .dataframe tbody tr th {\n        vertical-align: top;\n    }\n\n    .dataframe thead th {\n        text-align: right;\n    }\n</style>\n<table border=\"1\" class=\"dataframe\">\n  <thead>\n    <tr style=\"text-align: right;\">\n      <th></th>\n      <th>State</th>\n      <th>Data</th>\n      <th>Year</th>\n      <th>Segment</th>\n      <th>Format</th>\n    </tr>\n  </thead>\n  <tbody>\n    <tr>\n      <th>0</th>\n      <td>Alabama</td>\n      <td>797,659</td>\n      <td>2019</td>\n      <td>Estimate</td>\n      <td>Total</td>\n    </tr>\n    <tr>\n      <th>1</th>\n      <td>Alabama</td>\n      <td>68.5%</td>\n      <td>2019</td>\n      <td>Estimate</td>\n      <td>Percent</td>\n    </tr>\n    <tr>\n      <th>2</th>\n      <td>Alabama</td>\n      <td>701,921</td>\n      <td>2019</td>\n      <td>Public School</td>\n      <td>Number</td>\n    </tr>\n    <tr>\n      <th>3</th>\n      <td>Alabama</td>\n      <td>88.0%</td>\n      <td>2019</td>\n      <td>Public School</td>\n      <td>Percent</td>\n    </tr>\n    <tr>\n      <th>4</th>\n      <td>Alabama</td>\n      <td>95,738</td>\n      <td>2019</td>\n      <td>Private School</td>\n      <td>Number</td>\n    </tr>\n    <tr>\n      <th>...</th>\n      <td>...</td>\n      <td>...</td>\n      <td>...</td>\n      <td>...</td>\n      <td>...</td>\n    </tr>\n    <tr>\n      <th>148</th>\n      <td>Wisconsin</td>\n      <td>87.5%</td>\n      <td>2010</td>\n      <td>of enrolled population  In Public School</td>\n      <td>Percent</td>\n    </tr>\n    <tr>\n      <th>149</th>\n      <td>Wisconsin</td>\n      <td>12.5%</td>\n      <td>2010</td>\n      <td>of enrolled population  In Private School</td>\n      <td>Percent</td>\n    </tr>\n    <tr>\n      <th>150</th>\n      <td>Wyoming</td>\n      <td>94,404</td>\n      <td>2010</td>\n      <td>Estimate</td>\n      <td>Total</td>\n    </tr>\n    <tr>\n      <th>151</th>\n      <td>Wyoming</td>\n      <td>96.3%</td>\n      <td>2010</td>\n      <td>of enrolled population  In Public School</td>\n      <td>Percent</td>\n    </tr>\n    <tr>\n      <th>152</th>\n      <td>Wyoming</td>\n      <td>3.7%</td>\n      <td>2010</td>\n      <td>of enrolled population  In Private School</td>\n      <td>Percent</td>\n    </tr>\n  </tbody>\n</table>\n<p>2601 rows × 5 columns</p>\n</div>"
     },
     "metadata": {},
     "execution_count": 16
    }
   ],
   "source": [
    "all_pops =[pop_19,pop_18,pop_17,pop_16,pop_15,pop_15,pop_14,pop_13,pop_12,pop_11,pop_10]\n",
    "popdfs = pd.concat(all_pops)\n",
    "popdfs\n",
    "\n",
    "\n",
    "popdfs['State'] = popdfs['State'].str.replace('!!', ' ')\n",
    "popdfs[['State','Segment']] = popdfs['State'].str.split(' ', n=1, expand=True)\n",
    "popdfs[['Format','Segment']] = popdfs['Segment'].str.split(' ', n=1, expand=True)\n",
    "popdfs['Format'] = popdfs['Format'].str.replace('In', 'Number')\n",
    "\n",
    "popdfs['Segment'] = popdfs['Segment'].str.replace('in public school Estimate', 'Public School')\n",
    "popdfs['Segment'] = popdfs['Segment'].str.replace('public school Estimate', 'Public School')\n",
    "popdfs['Segment'] = popdfs['Segment'].str.replace('in private school Estimate', 'Private School')\n",
    "popdfs['Segment'] = popdfs['Segment'].str.replace('private school Estimate', 'Private School')\n",
    "popdfs['Segment'] = popdfs['Segment'].str.replace('of enrolled population In Public School', 'Public School')\n",
    "popdfs['Segment'] = popdfs['Segment'].str.replace('pof enrolled population In Private School', 'Private School')\n",
    "\n",
    "popdfs = popdfs[~popdfs.State.str.contains('Puerto')]\n",
    "\n",
    "popdfs"
   ]
  },
  {
   "cell_type": "code",
   "execution_count": 14,
   "metadata": {},
   "outputs": [
    {
     "output_type": "execute_result",
     "data": {
      "text/plain": [
       "                                                 State     Data  Year\n",
       "0                             Alabama!!Total!!Estimate  839,657  2011\n",
       "1    Alabama!!Percent of enrolled population !!In p...    88.7%  2011\n",
       "2    Alabama!!Percent of enrolled population !!In p...    11.3%  2011\n",
       "3                              Alaska!!Total!!Estimate  136,031  2011\n",
       "4    Alaska!!Percent of enrolled population !!In pu...    92.8%  2011\n",
       "..                                                 ...      ...   ...\n",
       "151  Wyoming!!Percent of enrolled population !!In p...    94.1%  2011\n",
       "152  Wyoming!!Percent of enrolled population !!In p...     5.9%  2011\n",
       "153                       Puerto Rico!!Total!!Estimate  658,232  2011\n",
       "154  Puerto Rico!!Percent of enrolled population !!...    77.2%  2011\n",
       "155  Puerto Rico!!Percent of enrolled population !!...    22.8%  2011\n",
       "\n",
       "[156 rows x 3 columns]"
      ],
      "text/html": "<div>\n<style scoped>\n    .dataframe tbody tr th:only-of-type {\n        vertical-align: middle;\n    }\n\n    .dataframe tbody tr th {\n        vertical-align: top;\n    }\n\n    .dataframe thead th {\n        text-align: right;\n    }\n</style>\n<table border=\"1\" class=\"dataframe\">\n  <thead>\n    <tr style=\"text-align: right;\">\n      <th></th>\n      <th>State</th>\n      <th>Data</th>\n      <th>Year</th>\n    </tr>\n  </thead>\n  <tbody>\n    <tr>\n      <th>0</th>\n      <td>Alabama!!Total!!Estimate</td>\n      <td>839,657</td>\n      <td>2011</td>\n    </tr>\n    <tr>\n      <th>1</th>\n      <td>Alabama!!Percent of enrolled population !!In p...</td>\n      <td>88.7%</td>\n      <td>2011</td>\n    </tr>\n    <tr>\n      <th>2</th>\n      <td>Alabama!!Percent of enrolled population !!In p...</td>\n      <td>11.3%</td>\n      <td>2011</td>\n    </tr>\n    <tr>\n      <th>3</th>\n      <td>Alaska!!Total!!Estimate</td>\n      <td>136,031</td>\n      <td>2011</td>\n    </tr>\n    <tr>\n      <th>4</th>\n      <td>Alaska!!Percent of enrolled population !!In pu...</td>\n      <td>92.8%</td>\n      <td>2011</td>\n    </tr>\n    <tr>\n      <th>...</th>\n      <td>...</td>\n      <td>...</td>\n      <td>...</td>\n    </tr>\n    <tr>\n      <th>151</th>\n      <td>Wyoming!!Percent of enrolled population !!In p...</td>\n      <td>94.1%</td>\n      <td>2011</td>\n    </tr>\n    <tr>\n      <th>152</th>\n      <td>Wyoming!!Percent of enrolled population !!In p...</td>\n      <td>5.9%</td>\n      <td>2011</td>\n    </tr>\n    <tr>\n      <th>153</th>\n      <td>Puerto Rico!!Total!!Estimate</td>\n      <td>658,232</td>\n      <td>2011</td>\n    </tr>\n    <tr>\n      <th>154</th>\n      <td>Puerto Rico!!Percent of enrolled population !!...</td>\n      <td>77.2%</td>\n      <td>2011</td>\n    </tr>\n    <tr>\n      <th>155</th>\n      <td>Puerto Rico!!Percent of enrolled population !!...</td>\n      <td>22.8%</td>\n      <td>2011</td>\n    </tr>\n  </tbody>\n</table>\n<p>156 rows × 3 columns</p>\n</div>"
     },
     "metadata": {},
     "execution_count": 14
    }
   ],
   "source": [
    "pop_11"
   ]
  },
  {
   "cell_type": "code",
   "execution_count": null,
   "metadata": {},
   "outputs": [],
   "source": []
  }
 ]
}